{
 "cells": [
  {
   "cell_type": "markdown",
   "metadata": {},
   "source": [
    "# 1. Data Cleaning"
   ]
  },
  {
   "cell_type": "code",
   "execution_count": null,
   "metadata": {},
   "outputs": [],
   "source": [
    "import pandas as pd\n",
    "\n",
    "excel_2016 = [\"bikeshare-ridership-2016-q3.xlsx\", \"bikeshare-ridership-2016-q4.xlsx\"]\n",
    "q_df_2016 = [pd.read_excel(file) for file in excel_2016]\n",
    "\n",
    "csv_2017 = [\"Bikeshare Ridership (2017 Q1).csv\", \"Bikeshare Ridership (2017 Q2).csv\", \n",
    "              \"Bikeshare Ridership (2017 Q3).csv\", \"Bikeshare Ridership (2017 Q4).csv\"]\n",
    "q_df_2017 = [pd.read_csv(file) for file in csv_2017]\n",
    "\n",
    "for i in range(2):\n",
    "     q_df_2017[i].drop(['from_station_id', 'to_station_id'], axis=1, inplace=True)\n",
    "\n",
    "q_df = q_df_2016 + q_df_2017\n",
    "        \n",
    "for i in range(6):\n",
    "    q_df[i].drop(['trip_id'], axis=1, inplace=True)"
   ]
  },
  {
   "cell_type": "code",
   "execution_count": null,
   "metadata": {},
   "outputs": [],
   "source": [
    "# Get the year, month, and day for every trip\n",
    "for i in range(6):\n",
    "    if i < 2:\n",
    "        q_df[i]['year'] = 2016\n",
    "    else:\n",
    "        q_df[i]['year'] = 2017\n",
    "    q_df[i]['month'] = [int(date.split('/')[1]) if (isinstance(date, str) and (i == 1 or i == 2 \n",
    "                        or i == 3)) else int(date.split('/')[0]) if (isinstance(date, str) and \n",
    "                        (i == 4 or i == 5)) else int(date.day) if i == 1 else int(date.month) \n",
    "                        for date in q_df[i]['trip_start_time']] \n",
    "    q_df[i]['day'] = [int(date.split('/')[0]) if (isinstance(date, str) and (i == 1 or i == 2 \n",
    "                        or i == 3)) else int(date.split('/')[1]) if (isinstance(date, str) \n",
    "                        and (i == 4 or i == 5)) else int(date.month) if i == 1 else int(date.day)\n",
    "                      for date in q_df[i]['trip_start_time']]\n",
    "    q_df[i]['hour'] = [int(date.split(\" \")[1].split(\":\")[0]) if isinstance(date, str) else \n",
    "                            int(date.hour) for date in q_df[i]['trip_start_time']]\n",
    "q_df[0] = q_df[0][q_df[0].month != 1]\n",
    "\n",
    "trips = pd.concat(q_df)"
   ]
  },
  {
   "cell_type": "code",
   "execution_count": null,
   "metadata": {},
   "outputs": [],
   "source": [
    "# Scrape the weather data\n",
    "\n",
    "years = [2016 for i in range (6)] + [2017 for i in range(12)]\n",
    "months = [i for i in range(7, 13)] + [i for i in range(1, 13)]\n",
    "date_tups = list(zip(months, years))\n",
    "\n",
    "weather_urls = [\"https://climate.weather.gc.ca/climate_data/daily_data_e.html?\\\n",
    "hlyRange=2002-06-04%7C2020-02-04&dlyRange=2002-06-04%7C2020-02-03&mlyRange=2003-07\\\n",
    "-01%7C2006-12-01&StationID=31688&Prov=ON&urlExtension=_e.html&searchType=stnProx&\\\n",
    "optLimit=yearRange&Month=\" + str(month) + \"&Day=1&StartYear=1840&EndYear=2020&Year=\" + \n",
    "str(year) + \"&selRowPerPage=25&Line=5&txtRadius=25&optProxType=city&selCity=43%7C39%7C7\\\n",
    "9%7C23%7CToronto&selPark=&txtCentralLatDeg=&txtCentralLatMin=0&txtCentralLatSec=0\\\n",
    "&txtCentralLongDeg=&txtCentralLongMin=0&txtCentralLongSec=0&txtLatDecDeg=&txtLong\\\n",
    "DecDeg=&timeframe=2\" for (month, year) in date_tups]\n",
    "\n",
    "weather_dfs = []\n",
    "\n",
    "for link in weather_urls:\n",
    "    weather_data = pd.read_html(link)\n",
    "    weather_dfs.append(weather_data[0])"
   ]
  },
  {
   "cell_type": "code",
   "execution_count": null,
   "metadata": {},
   "outputs": [],
   "source": [
    "# Remove duration outliers\n",
    "trips = trips[trips.from_station_name != trips.to_station_name]\n",
    "\n",
    "trip_durations = trips['trip_duration_seconds']\n",
    "iqr = trip_durations.quantile(0.75) - trip_durations.quantile(0.25)\n",
    "    \n",
    "upper_bound = trip_durations.quantile(0.75) + 1.5 * iqr\n",
    "    \n",
    "# Remove all outliers from the upper extreme.\n",
    "trips = trips[trips.trip_duration_seconds <= upper_bound]\n",
    "# Remove all outliers from the lower extreme.\n",
    "trips = trips[trips.trip_duration_seconds >= 47]\n",
    "trips = trips.reset_index().drop(['index'], axis = 1)"
   ]
  },
  {
   "cell_type": "code",
   "execution_count": null,
   "metadata": {},
   "outputs": [],
   "source": [
    "trips"
   ]
  },
  {
   "cell_type": "markdown",
   "metadata": {},
   "source": [
    "# 2. Trip Duration Visualizations"
   ]
  },
  {
   "cell_type": "code",
   "execution_count": null,
   "metadata": {},
   "outputs": [],
   "source": [
    "import plotly.express as px\n",
    "\n",
    "fig = px.histogram(trips, x=\"trip_duration_seconds\", nbins=100,\n",
    "                   labels={'trip_duration_seconds': 'Duration (sec)', 'count': 'Trips'})\n",
    "fig.update_layout(title_text='Trip Duration Distribution', title_x=0.5)\n",
    "fig.show()"
   ]
  },
  {
   "cell_type": "markdown",
   "metadata": {},
   "source": [
    "# 3. User Type Visualizations"
   ]
  },
  {
   "cell_type": "code",
   "execution_count": null,
   "metadata": {},
   "outputs": [],
   "source": [
    "fig = px.violin(trips, x='user_type', y=\"trip_duration_seconds\", box=True, points=False,\n",
    "               labels={'user_type': \"User Type\", 'trip_duration_seconds': \"Duration (sec)\"})\n",
    "fig.update_layout(title_text='Bike Share Trips by User Type', title_x=0.5)\n",
    "fig.show()"
   ]
  },
  {
   "cell_type": "markdown",
   "metadata": {},
   "source": [
    "# 4. Trip Time Visualizations"
   ]
  },
  {
   "cell_type": "code",
   "execution_count": null,
   "metadata": {},
   "outputs": [],
   "source": [
    "trips_hour_df = pd.DataFrame({'Hour': range(24),\n",
    "                       'Trips': trips.groupby(['hour'])['hour'].count(),\n",
    "                        'Duration (sec)': trips.groupby(['hour'])['trip_duration_seconds'].mean()})\n",
    "\n",
    "fig = px.bar(trips_hour_df, x='Hour', y='Trips', color='Duration (sec)')\n",
    "fig.update_layout(title_text='Bike Share Trips by Hour', title_x=0.5)\n",
    "fig.show()"
   ]
  },
  {
   "cell_type": "code",
   "execution_count": null,
   "metadata": {},
   "outputs": [],
   "source": [
    "trips_month_df = pd.DataFrame({'Month': range(12),\n",
    "                       'Trips': trips.groupby(['month'])['month'].count(),\n",
    "                        'Duration (sec)': trips.groupby(['month'])['trip_duration_seconds'].mean()})\n",
    "\n",
    "fig = px.bar(trips_month_df, x='Month', y='Trips', color='Duration (sec)')\n",
    "fig.update_layout(title_text='Bike Share Trips by Month', title_x=0.5)\n",
    "fig.show()"
   ]
  },
  {
   "cell_type": "markdown",
   "metadata": {},
   "source": [
    "# 5. Trip Location Visualizations"
   ]
  },
  {
   "cell_type": "code",
   "execution_count": null,
   "metadata": {},
   "outputs": [],
   "source": [
    "# Get the longitude and latitude for each station\n",
    "\n",
    "import urllib\n",
    "import json\n",
    "\n",
    "url = \"https://tor.publicbikesystem.net/ube/gbfs/v1/en/station_information\"\n",
    "response = urllib.request.urlopen(url)\n",
    "station_dict = json.loads(response.read())\n",
    "station_df = pd.DataFrame(station_dict['data']['stations'])\n",
    "station_coords = {row['name']: (row['lon'], row['lat']) for _, row in station_df.iterrows()} "
   ]
  },
  {
   "cell_type": "code",
   "execution_count": null,
   "metadata": {},
   "outputs": [],
   "source": [
    "trips['endpoints'] = list(zip(trips['from_station_name'], trips['to_station_name']))\n",
    "trips"
   ]
  },
  {
   "cell_type": "code",
   "execution_count": null,
   "metadata": {},
   "outputs": [],
   "source": [
    "import numpy as np\n",
    "\n",
    "loc_pairs_np = np.array(trips['endpoints']).tolist()\n",
    "uniq_pairs = np.unique(loc_pairs_np, axis = 0)"
   ]
  },
  {
   "cell_type": "code",
   "execution_count": null,
   "metadata": {},
   "outputs": [],
   "source": [
    "import random\n",
    "\n",
    "samp_pairs = random.sample(uniq_pairs.tolist(), 200)\n",
    "samp_tuples = [tuple(samp_pair) for samp_pair in samp_pairs]"
   ]
  },
  {
   "cell_type": "code",
   "execution_count": null,
   "metadata": {},
   "outputs": [],
   "source": [
    "station_pairs_v = [station_pair if (station_pair[0] in station_coords.keys()\n",
    "                    and station_pair[1] in station_coords.keys())\n",
    "                      else 0 for station_pair in samp_tuples]\n",
    "station_pairs_v2 = list(filter((0).__ne__, station_pairs_v))"
   ]
  },
  {
   "cell_type": "code",
   "execution_count": null,
   "metadata": {},
   "outputs": [],
   "source": [
    "s_pairs_df = pd.DataFrame({'s_start_lon': [station_coords[s_pair[0]][0] \n",
    "                                           for s_pair in station_pairs_v2],\n",
    "                          's_end_lon': [station_coords[s_pair[1]][0]\n",
    "                                           for s_pair in station_pairs_v2],\n",
    "                          's_start_lat': [station_coords[s_pair[0]][1] \n",
    "                                           for s_pair in station_pairs_v2],\n",
    "                          's_end_lat': [station_coords[s_pair[1]][1]\n",
    "                                           for s_pair in station_pairs_v2]})"
   ]
  },
  {
   "cell_type": "code",
   "execution_count": null,
   "metadata": {},
   "outputs": [],
   "source": [
    "import plotly.graph_objects as go\n",
    "\n",
    "fig = go.Figure()\n",
    "for i in range(len(s_pairs_df)):\n",
    "    fig.add_trace(\n",
    "        go.Scattergeo(\n",
    "            lon = [s_pairs_df['s_start_lon'][i], s_pairs_df['s_end_lon'][i]],\n",
    "            lat = [s_pairs_df['s_start_lat'][i], s_pairs_df['s_end_lat'][i]],\n",
    "            mode = 'lines',\n",
    "            line = dict(width = 1,color = 'red')\n",
    "        )\n",
    "    )"
   ]
  },
  {
   "cell_type": "code",
   "execution_count": null,
   "metadata": {},
   "outputs": [],
   "source": [
    "fig.show()"
   ]
  },
  {
   "cell_type": "code",
   "execution_count": null,
   "metadata": {},
   "outputs": [],
   "source": [
    "from collections import defaultdict\n",
    "\n",
    "stations1 = [start_station if start_station in station_coords.keys()\n",
    "                      else 0 for start_station in trips['from_station_name']]\n",
    "stations2 = list(filter((0).__ne__, stations1))\n",
    "stations_dict = defaultdict(int)\n",
    "\n",
    "for station in stations2:\n",
    "    stations_dict[station] += 1\n",
    "trips2 = pd.DataFrame({'Station': [station for station in stations_dict.keys()],\n",
    "                       'Longitude': [station_coords[station][0] for \n",
    "                                     station in stations_dict.keys()],\n",
    "                      'Latitude': [station_coords[station][1] for \n",
    "                                   station in stations_dict.keys()],\n",
    "                      'Trips': [stations_dict[station] for \n",
    "                                station in stations_dict.keys()]})"
   ]
  },
  {
   "cell_type": "code",
   "execution_count": null,
   "metadata": {},
   "outputs": [],
   "source": [
    "fig = px.density_mapbox(trips2, hover_name='Station', lon='Longitude', lat='Latitude', z='Trips', \n",
    "                        mapbox_style=\"open-street-map\", \n",
    "                        zoom=11.5, radius=16)\n",
    "fig.update_layout(title_text='Location of Bike Share Trips', title_x=0.5)\n",
    "fig.show()"
   ]
  },
  {
   "cell_type": "code",
   "execution_count": null,
   "metadata": {},
   "outputs": [],
   "source": []
  },
  {
   "cell_type": "markdown",
   "metadata": {},
   "source": [
    "# 6. Trip-Weather Relationship Visualizations"
   ]
  },
  {
   "cell_type": "code",
   "execution_count": null,
   "metadata": {},
   "outputs": [],
   "source": [
    "df_choice = (trips['year'] - 2016) * 12 + trips['month'] - 7\n",
    "choice_tup = list(zip(df_choice, trips['day'] - 1))\n",
    "features_map = {'temperature': 'Mean Temp Definition°C', \n",
    "                'precipitation': 'Total Precip Definitionmm'}"
   ]
  },
  {
   "cell_type": "code",
   "execution_count": null,
   "metadata": {},
   "outputs": [],
   "source": [
    "import numpy as np\n",
    "\n",
    "for feature, heading in features_map.items():\n",
    "    vals = [weather_dfs[tup[0]].iloc[tup[1]][heading] for tup in choice_tup]\n",
    "    trips[feature] = [np.nan if (val == 'LegendMM' or val == 'LegendTT') else \n",
    "                      float(val) for val in vals]"
   ]
  },
  {
   "cell_type": "code",
   "execution_count": null,
   "metadata": {},
   "outputs": [],
   "source": [
    "trips_temp_df = pd.DataFrame({'Temperature': list(trips.groupby(['temperature']).groups.keys()),\n",
    "                    'Duration (sec)': trips.groupby(['temperature'])['trip_duration_seconds'].mean()})\n",
    "trips_precip_df = pd.DataFrame({'Precipitation': list(trips.groupby(['precipitation']).groups.keys()),\n",
    "                    'Duration (sec)': trips.groupby(['precipitation'])['trip_duration_seconds'].mean()})"
   ]
  },
  {
   "cell_type": "code",
   "execution_count": null,
   "metadata": {},
   "outputs": [],
   "source": [
    "display(trips_temp_df)\n",
    "display(trips_precip_df)"
   ]
  },
  {
   "cell_type": "code",
   "execution_count": null,
   "metadata": {},
   "outputs": [],
   "source": [
    "fig = px.line(trips_temp_df, x='Temperature', y='Duration (sec)')\n",
    "fig.update_layout(title_text='Temperature vs. Trip Duration', title_x=0.5)\n",
    "fig.show()"
   ]
  },
  {
   "cell_type": "code",
   "execution_count": null,
   "metadata": {},
   "outputs": [],
   "source": [
    "fig = px.scatter(trips_precip_df, x='Precipitation', y='Duration (sec)')\n",
    "fig.update_layout(title_text='Precipitation vs. Trip Duration', title_x=0.5)\n",
    "fig.show()"
   ]
  }
 ],
 "metadata": {
  "kernelspec": {
   "display_name": "Python 3",
   "language": "python",
   "name": "python3"
  },
  "language_info": {
   "codemirror_mode": {
    "name": "ipython",
    "version": 3
   },
   "file_extension": ".py",
   "mimetype": "text/x-python",
   "name": "python",
   "nbconvert_exporter": "python",
   "pygments_lexer": "ipython3",
   "version": "3.7.3"
  }
 },
 "nbformat": 4,
 "nbformat_minor": 2
}
